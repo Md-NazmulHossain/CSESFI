{
  "nbformat": 4,
  "nbformat_minor": 0,
  "metadata": {
    "colab": {
      "name": "CSESFI_12_Palindrome_Reorder.ipynb",
      "provenance": [],
      "collapsed_sections": [],
      "authorship_tag": "ABX9TyMy59LRXq6KS8S4rQn9qvGn",
      "include_colab_link": true
    },
    "kernelspec": {
      "name": "python3",
      "display_name": "Python 3"
    },
    "language_info": {
      "name": "python"
    },
    "accelerator": "GPU"
  },
  "cells": [
    {
      "cell_type": "markdown",
      "metadata": {
        "id": "view-in-github",
        "colab_type": "text"
      },
      "source": [
        "<a href=\"https://colab.research.google.com/github/Md-NazmulHossain/CSESFI/blob/master/CSESFI_12_Palindrome_Reorder.ipynb\" target=\"_parent\"><img src=\"https://colab.research.google.com/assets/colab-badge.svg\" alt=\"Open In Colab\"/></a>"
      ]
    },
    {
      "cell_type": "code",
      "metadata": {
        "colab": {
          "base_uri": "https://localhost:8080/"
        },
        "id": "P6txeONV5PVI",
        "outputId": "5b2be4f0-af20-4eac-d2d3-79147d696058"
      },
      "source": [
        "a = input()\n",
        "ls = sorted(list(set(a)))\n",
        "\n",
        "middle = ''\n",
        "half = ''\n",
        "x = 0\n",
        "\n",
        "for i in ls:\n",
        "  n = a.count(i)\n",
        "  if n%2==0:\n",
        "    half += i* (n//2)\n",
        "  elif x==1:\n",
        "    half = 0\n",
        "    print(\"NO SOLUTION\")\n",
        "    break;\n",
        "\n",
        "  else:\n",
        "    x =1\n",
        "    middle = i\n",
        "    half += i* (n//2)\n",
        "\n",
        "if half !=0:\n",
        "  print(half+middle+half[::-1])\n"
      ],
      "execution_count": 3,
      "outputs": [
        {
          "output_type": "stream",
          "name": "stdout",
          "text": [
            "Mother\n",
            "NO SOLUTION\n"
          ]
        }
      ]
    }
  ]
}