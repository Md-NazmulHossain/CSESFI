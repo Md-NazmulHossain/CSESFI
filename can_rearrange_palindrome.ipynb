{
  "nbformat": 4,
  "nbformat_minor": 0,
  "metadata": {
    "colab": {
      "name": "can_rearrange_palindrome.ipynb",
      "provenance": [],
      "collapsed_sections": [],
      "authorship_tag": "ABX9TyOg+o9yDXroac2SgGgUOKki",
      "include_colab_link": true
    },
    "kernelspec": {
      "name": "python3",
      "display_name": "Python 3"
    },
    "language_info": {
      "name": "python"
    }
  },
  "cells": [
    {
      "cell_type": "markdown",
      "metadata": {
        "id": "view-in-github",
        "colab_type": "text"
      },
      "source": [
        "<a href=\"https://colab.research.google.com/github/Md-NazmulHossain/CSESFI/blob/master/can_rearrange_palindrome.ipynb\" target=\"_parent\"><img src=\"https://colab.research.google.com/assets/colab-badge.svg\" alt=\"Open In Colab\"/></a>"
      ]
    },
    {
      "cell_type": "markdown",
      "metadata": {
        "id": "-Er7MdxljH2i"
      },
      "source": [
        ""
      ]
    },
    {
      "cell_type": "markdown",
      "metadata": {
        "id": "oGIJPK7XoI88"
      },
      "source": [
        "# OBSERVATIONS:\n",
        "    Even length palindrome\n",
        "    -> Every character appears even no.of times.\n",
        "    Odd length palindrome\n",
        "    -> Every character appears even no.of times except for one character.\n",
        "# LOGIC:\n",
        "    Step 1: We'll count number of characters that appear odd number of times i.e oddChar\n",
        "    Step 2:If we find more than 1 character that appears odd number of times,\n",
        "    It is not possible to rearrange as a palindrome\n",
        "\n",
        "\n"
      ]
    },
    {
      "cell_type": "code",
      "metadata": {
        "colab": {
          "base_uri": "https://localhost:8080/"
        },
        "id": "GkcG1csdmhXz",
        "outputId": "f695553f-f2d4-4492-fe27-8f58bfc199be"
      },
      "source": [
        "from collections import Counter \n",
        "def can_string_berearrange_as_palindrome_counter(input_str: str=\"\") -> bool:\n",
        "  return sum(c%2 for c in Counter(input_str.replace(\" \", \"\").lower()).values()) <2\n",
        "\n",
        "can_string_berearrange_as_palindrome_counter(\"Momo\")"
      ],
      "execution_count": 4,
      "outputs": [
        {
          "output_type": "execute_result",
          "data": {
            "text/plain": [
              "True"
            ]
          },
          "metadata": {},
          "execution_count": 4
        }
      ]
    }
  ]
}